{
 "cells": [
  {
   "cell_type": "markdown",
   "metadata": {},
   "source": [
    "I start by importing the CSV files and and using methods that give me a high-level overview of the data sets."
   ]
  },
  {
   "cell_type": "code",
   "execution_count": 1,
   "metadata": {},
   "outputs": [
    {
     "data": {
      "text/html": [
       "<div>\n",
       "<style scoped>\n",
       "    .dataframe tbody tr th:only-of-type {\n",
       "        vertical-align: middle;\n",
       "    }\n",
       "\n",
       "    .dataframe tbody tr th {\n",
       "        vertical-align: top;\n",
       "    }\n",
       "\n",
       "    .dataframe thead th {\n",
       "        text-align: right;\n",
       "    }\n",
       "</style>\n",
       "<table border=\"1\" class=\"dataframe\">\n",
       "  <thead>\n",
       "    <tr style=\"text-align: right;\">\n",
       "      <th></th>\n",
       "      <th>Unnamed: 0</th>\n",
       "      <th>id</th>\n",
       "      <th>rxStartMonth</th>\n",
       "      <th>rxStartYear</th>\n",
       "      <th>rxNDC</th>\n",
       "      <th>rxQuantity</th>\n",
       "    </tr>\n",
       "  </thead>\n",
       "  <tbody>\n",
       "    <tr>\n",
       "      <th>count</th>\n",
       "      <td>1.148347e+06</td>\n",
       "      <td>1.148347e+06</td>\n",
       "      <td>1.148347e+06</td>\n",
       "      <td>1.148347e+06</td>\n",
       "      <td>1.148347e+06</td>\n",
       "      <td>1.148347e+06</td>\n",
       "    </tr>\n",
       "    <tr>\n",
       "      <th>mean</th>\n",
       "      <td>1.240252e+06</td>\n",
       "      <td>5.523596e+07</td>\n",
       "      <td>5.184600e-01</td>\n",
       "      <td>1.172427e+03</td>\n",
       "      <td>2.226109e+10</td>\n",
       "      <td>5.942380e+01</td>\n",
       "    </tr>\n",
       "    <tr>\n",
       "      <th>std</th>\n",
       "      <td>9.590400e+05</td>\n",
       "      <td>2.728584e+07</td>\n",
       "      <td>4.087907e+00</td>\n",
       "      <td>9.895660e+02</td>\n",
       "      <td>2.834269e+10</td>\n",
       "      <td>3.702845e+02</td>\n",
       "    </tr>\n",
       "    <tr>\n",
       "      <th>min</th>\n",
       "      <td>1.000000e+00</td>\n",
       "      <td>1.000710e+07</td>\n",
       "      <td>-9.000000e+00</td>\n",
       "      <td>-1.400000e+01</td>\n",
       "      <td>-9.000000e+00</td>\n",
       "      <td>-9.000000e+00</td>\n",
       "    </tr>\n",
       "    <tr>\n",
       "      <th>25%</th>\n",
       "      <td>2.870875e+05</td>\n",
       "      <td>4.063810e+07</td>\n",
       "      <td>-1.000000e+00</td>\n",
       "      <td>-1.000000e+00</td>\n",
       "      <td>1.490472e+08</td>\n",
       "      <td>3.000000e+01</td>\n",
       "    </tr>\n",
       "    <tr>\n",
       "      <th>50%</th>\n",
       "      <td>1.093262e+06</td>\n",
       "      <td>4.947510e+07</td>\n",
       "      <td>-1.000000e+00</td>\n",
       "      <td>2.000000e+03</td>\n",
       "      <td>5.910385e+08</td>\n",
       "      <td>3.000000e+01</td>\n",
       "    </tr>\n",
       "    <tr>\n",
       "      <th>75%</th>\n",
       "      <td>2.103602e+06</td>\n",
       "      <td>8.118210e+07</td>\n",
       "      <td>1.000000e+00</td>\n",
       "      <td>2.008000e+03</td>\n",
       "      <td>5.486835e+10</td>\n",
       "      <td>6.800000e+01</td>\n",
       "    </tr>\n",
       "    <tr>\n",
       "      <th>max</th>\n",
       "      <td>3.336212e+06</td>\n",
       "      <td>8.968810e+07</td>\n",
       "      <td>1.200000e+01</td>\n",
       "      <td>2.011000e+03</td>\n",
       "      <td>9.920707e+10</td>\n",
       "      <td>1.200000e+05</td>\n",
       "    </tr>\n",
       "  </tbody>\n",
       "</table>\n",
       "</div>"
      ],
      "text/plain": [
       "         Unnamed: 0            id  rxStartMonth   rxStartYear         rxNDC  \\\n",
       "count  1.148347e+06  1.148347e+06  1.148347e+06  1.148347e+06  1.148347e+06   \n",
       "mean   1.240252e+06  5.523596e+07  5.184600e-01  1.172427e+03  2.226109e+10   \n",
       "std    9.590400e+05  2.728584e+07  4.087907e+00  9.895660e+02  2.834269e+10   \n",
       "min    1.000000e+00  1.000710e+07 -9.000000e+00 -1.400000e+01 -9.000000e+00   \n",
       "25%    2.870875e+05  4.063810e+07 -1.000000e+00 -1.000000e+00  1.490472e+08   \n",
       "50%    1.093262e+06  4.947510e+07 -1.000000e+00  2.000000e+03  5.910385e+08   \n",
       "75%    2.103602e+06  8.118210e+07  1.000000e+00  2.008000e+03  5.486835e+10   \n",
       "max    3.336212e+06  8.968810e+07  1.200000e+01  2.011000e+03  9.920707e+10   \n",
       "\n",
       "         rxQuantity  \n",
       "count  1.148347e+06  \n",
       "mean   5.942380e+01  \n",
       "std    3.702845e+02  \n",
       "min   -9.000000e+00  \n",
       "25%    3.000000e+01  \n",
       "50%    3.000000e+01  \n",
       "75%    6.800000e+01  \n",
       "max    1.200000e+05  "
      ]
     },
     "execution_count": 1,
     "metadata": {},
     "output_type": "execute_result"
    }
   ],
   "source": [
    "import numpy as np, pandas as pd\n",
    "#path = 'C:/Users/Glenn Wright/Contacts/Documents/GitHub/homework/'\n",
    "path = 'C:/Users/M543015/Desktop/GitHub/homework/'\n",
    "base = pd.read_csv(path+'meps_base_data.csv', sep=',')\n",
    "meds = pd.read_csv(path+'meps_meds.csv', sep=',')\n",
    "\n",
    "base.dtypes\n",
    "base.head()\n",
    "base.describe()\n",
    "\n",
    "meds.dtypes\n",
    "meds.head()\n",
    "meds.describe()"
   ]
  },
  {
   "cell_type": "markdown",
   "metadata": {},
   "source": [
    "Next, I create some useful collections - a list of all the diseases, and a lookup table for medications by NDC code."
   ]
  },
  {
   "cell_type": "code",
   "execution_count": 2,
   "metadata": {},
   "outputs": [],
   "source": [
    "ndc = meds[['rxNDC','rxName','id']]\n",
    "ndc = ndc.groupby(['rxNDC','rxName'], as_index=False).count()\n",
    "ndc = ndc.sort_values(['rxNDC','id'], ascending=[True, False])\n",
    "ndc = ndc.drop_duplicates()\n",
    "ndc = dict(ndc[['rxNDC','rxName']].values.tolist())\n",
    "diseases = base.columns[8:].values.tolist()"
   ]
  },
  {
   "cell_type": "markdown",
   "metadata": {},
   "source": [
    "There may be issues with duplicate meds.  I would want to go over these with a subject-matter expert."
   ]
  },
  {
   "cell_type": "code",
   "execution_count": 18,
   "metadata": {},
   "outputs": [
    {
     "name": "stdout",
     "output_type": "stream",
     "text": [
      "             rxNDC                          rxName   id\n",
      "35648  63653117105                     CLOPIDOGREL    1\n",
      "35653  63653117106                     CLOPIDOGREL    1\n",
      "12822    603385632      HYDROCHLOROTHIAZIDE (HCTZ)    1\n",
      "7120     228282011             HYDROCHLOROTHIZAIDE    1\n",
      "16481  13411011303                         LIPITOR    1\n",
      "16222  12280013100          (ARMOUR) THYROID (1GR)    1\n",
      "41608  86227090105                              -9    8\n",
      "0               -9                              -9    5\n",
      "16013  11673092740                              -9    4\n",
      "1               -9               1 ANTI-INFECTIVES   54\n",
      "15520   8881260148        1.5 INCH 27 GAUGE NEEDLE    1\n",
      "15337   8290305620                    1/2ML TB SYR    2\n",
      "38693  66993017520                              10    4\n",
      "22216  50383023210                              10    2\n",
      "34160  61314001910                              10    2\n",
      "513        6351935                              10    1\n",
      "516        6351936                              10    1\n",
      "33641  60505056701                              10    1\n",
      "2               -9        105 MISCELLANEOUS AGENTS  110\n",
      "3               -9  113 GENITOURINARY TRACT AGENTS   19\n",
      "4               -9        115 NUTRITIONAL PRODUCTS   13\n",
      "5               -9          122 RESPIRATORY AGENTS    8\n",
      "6               -9              133 TOPICAL AGENTS  102\n",
      "15347   8290309623            1CC TB SYRNG27GX1/2\"    1\n",
      "15348   8290309623                    1ML TB SYRNG    1\n",
      "7               -9              20 ANTINEOPLASTICS   80\n",
      "8               -9       218 ALTERNATIVE MEDICINES    1\n",
      "9               -9    242 PSYCHOTHERAPEUTIC AGENTS    1\n",
      "10              -9          254 IMMUNOLOGIC AGENTS   73\n",
      "11              -9                  28 BIOLOGICALS    7\n",
      "...            ...                             ...  ...\n",
      "2011      69553047  ZYRTEC (DYE-FREE,BANANA-GRAPE)   21\n",
      "2013      69553093  ZYRTEC (DYE-FREE,BANANA-GRAPE)    8\n",
      "1926      69073166            ZYRTEC (FILM COATED)   76\n",
      "1928      69073266            ZYRTEC (FILM COATED)    3\n",
      "2008      69551066            ZYRTEC (FILM-COATED)   11\n",
      "39361  67544039830            ZYRTEC (FILM-COATED)    6\n",
      "9939     440877014            ZYRTEC (FILM-COATED)    5\n",
      "27176  54868387600            ZYRTEC (FILM-COATED)    5\n",
      "30309  57866280101            ZYRTEC (FILM-COATED)    4\n",
      "1927      69073166            ZYRTEC (FILM-COATED)    3\n",
      "16590  13411018003            ZYRTEC (FILM-COATED)    2\n",
      "24709  52959048215            ZYRTEC (FILM-COATED)    2\n",
      "27178  54868387605            ZYRTEC (FILM-COATED)    2\n",
      "29813  55887082530            ZYRTEC (FILM-COATED)    2\n",
      "40264  68115036715            ZYRTEC (FILM-COATED)    2\n",
      "2006      69550066            ZYRTEC (FILM-COATED)    1\n",
      "16386  12547020436                    ZYRTEC ALLGY    6\n",
      "22738  50580072636                    ZYRTEC ALLGY    5\n",
      "22735  50580072410                    ZYRTEC CHILD    4\n",
      "22736  50580072511                    ZYRTEC HIVES    2\n",
      "22739  50580072636                      ZYRTEC OTC    5\n",
      "1941      69163066                        ZYRTEC-D   21\n",
      "29575  55887038030                        ZYRTEC-D    2\n",
      "30311  57866280301                        ZYRTEC-D    1\n",
      "22741  50580072850                    ZYRTEC-D ALG    1\n",
      "756        9513503                           ZYVOX    3\n",
      "754        9513502                           ZYVOX    2\n",
      "755        9513502                  ZYVOX (CAPLET)    1\n",
      "757        9514001                    ZYVOX (P.C.)    2\n",
      "17258  16590053630                  ZZFEXOFENADINE    1\n",
      "\n",
      "[41716 rows x 3 columns]\n"
     ]
    }
   ],
   "source": [
    "mednames = meds[['rxNDC','rxName','id']]\n",
    "mednames = mednames.drop_duplicates()\n",
    "mednames = mednames.groupby(['rxNDC','rxName'], as_index=False).count()\n",
    "mednames = mednames.sort_values(['rxName','id'], ascending=[True, False])\n",
    "print mednames"
   ]
  },
  {
   "cell_type": "markdown",
   "metadata": {},
   "source": [
    "Create a long-format disease table, only for IDs that have definitive \"Yes\" or \"No\" diagnoses."
   ]
  },
  {
   "cell_type": "code",
   "execution_count": null,
   "metadata": {},
   "outputs": [],
   "source": [
    "dis_long = base.melt('id',diseases)\n",
    "dis_long = dis_long.drop_duplicates()\n",
    "dis_long = dis_long.loc[dis_long['value'].isin(['Yes','No'])]\n",
    "dis_long = dis_long.replace(['Yes','No'],[1,0])"
   ]
  },
  {
   "cell_type": "markdown",
   "metadata": {},
   "source": [
    "Merge the long-format disease table with the meds table and then count medications for each disease."
   ]
  },
  {
   "cell_type": "code",
   "execution_count": null,
   "metadata": {},
   "outputs": [],
   "source": [
    "medsdd = meds[['id', 'rxNDC']]\n",
    "medsdd = medsdd.drop_duplicates()\n",
    "dismeds = pd.merge(dis_long, medsdd,'inner','id')\n",
    "dismeds.groupby(['variable','rxNDC'], as_index=False).count()\n",
    "yes = dismeds.loc[dismeds['value']==1][['id','variable','rxNDC']]\n",
    "sums = yes.groupby(['variable','rxNDC'], as_index=False).count()\n",
    "sums = sums.sort_values(['variable','id'], ascending=[True, False])"
   ]
  },
  {
   "cell_type": "markdown",
   "metadata": {},
   "source": [
    "1) What are the most common medications for each disease in the base file?"
   ]
  },
  {
   "cell_type": "code",
   "execution_count": null,
   "metadata": {},
   "outputs": [],
   "source": [
    "results1 = {}\n",
    "ten = {}\n",
    "fifty = {}\n",
    "for disease in diseases:\n",
    "\tvals = sums.loc[sums['variable']==disease]\n",
    "\tten[disease] = [val[1] for val in vals.values if val[2]>=10]\n",
    "\tfifty[disease] = [val[1] for val in vals.values if val[2]<=50]\n",
    "\tvals = vals[:10].values\n",
    "\tresults1[disease] = [(val[1], ndc[val[1]]) for val in vals]"
   ]
  },
  {
   "cell_type": "markdown",
   "metadata": {},
   "source": [
    "We now have a dictionary that contains lists of the ten most frequent medications for each disease."
   ]
  },
  {
   "cell_type": "markdown",
   "metadata": {},
   "source": [
    "What medications are most indicative of each disease?"
   ]
  },
  {
   "cell_type": "code",
   "execution_count": null,
   "metadata": {},
   "outputs": [],
   "source": [
    "import scipy.stats as stats\n",
    "results2 = {}\n",
    "for disease in diseases:\n",
    "\tresult = []\n",
    "\tdis = dis_long.loc[dis_long['variable']==disease]\n",
    "\tfor med in ndc.keys():\n",
    "\t\tif (med in fifty[disease]):\n",
    "\t\t\tmedyn = meds[['id','rxNDC']].loc[meds['rxNDC']==med]\n",
    "\t\t\tmedyn = medyn.drop_duplicates()\n",
    "\t\t\tmedyn['value2'] = 1\n",
    "\t\t\tdm = pd.merge(dis_long,medyn,'left','id')\n",
    "\t\t\tdm = dm.fillna(0)[['value','value2','id']]\n",
    "\t\t\tdm = dm.groupby(['value','value2'], as_index=False).count().values.tolist()\n",
    "\t\t\tif (len(dm)==4):\n",
    "\t\t\t\ttable = [[dm[0][2], dm[1][2]],[dm[2][2], dm[3][2]]]\n",
    "\t\t\t\toddsratio, pvalue = stats.fisher_exact(table)\n",
    "\t\t\t\tif pvalue < 0.01:\n",
    "\t\t\t\t\tprint disease\n",
    "\t\t\t\t\tprint ndc[med]\n",
    "\t\t\t\t\tprint oddsratio\n",
    "\t\t\t\t\tresult.append((oddsratio, med, ndc[med]))\n",
    "\n",
    "\tresult = sorted(result)[::-1][:5]\n",
    "\tresults2[disease] = result"
   ]
  },
  {
   "cell_type": "markdown",
   "metadata": {},
   "source": [
    "We now have dictionary that shows, for each disease, the five medications with the highest odds ratios.  Because it takes a long time to calculate the odds ratio for every medication, I restricted the analysis to only medications that occurred fifty or more times for each disease in question."
   ]
  },
  {
   "cell_type": "markdown",
   "metadata": {},
   "source": [
    "3) Choose ONE of the diseases and build a model to infer whether that disease is present\n",
    "from the medications."
   ]
  },
  {
   "cell_type": "code",
   "execution_count": null,
   "metadata": {},
   "outputs": [],
   "source": [
    "diabetes = dis_long.loc[dis_long['variable']=='diabetesDiagnosed'][['id','value']]\n",
    "dmeds = meds[['id','rxNDC']].loc[meds['rxNDC'].isin(ten['diabetesDiagnosed'])]\n",
    "dmeds = dmeds.drop_duplicates()\n",
    "dmeds['ones'] = 1\n",
    "dmeds = dmeds.pivot('id','rxNDC')\n",
    "dmeds = dmeds.fillna(0)\n",
    "dmeds['id'] = dmeds.index\n",
    "\n",
    "medids = set([id for id in dmeds['id'].values.tolist()])\n",
    "diabids = set([id for id in diabetes['id'].values.tolist()])\n",
    "shared = set([id for id in diabids if id in medids])\n",
    "\n",
    "data = dmeds.loc[dmeds['id'].isin(shared)]\n",
    "data = data.sort_values('id').drop('id', axis=1)\n",
    "data = data.values\n",
    "\n",
    "target = diabetes.loc[diabetes['id'].isin(shared)]\n",
    "target = target.sort_values('id')\n",
    "target = target['value'].values"
   ]
  },
  {
   "cell_type": "markdown",
   "metadata": {},
   "source": [
    "I chose diabetes, because that is a condition I have analyzed before.  I could try to build a model using both medications and demographics, but the instructions say to use medications so that's what I did.  The first step is to reformat the data so it can be used as input for predictive models in scikit-learn."
   ]
  },
  {
   "cell_type": "markdown",
   "metadata": {},
   "source": [
    "Given limited time, I decided to try only two modeling techniques: Logistic regression, because I have used it extensively in the past, and random forests, a technique known to get good results when there are important non-linear effects."
   ]
  },
  {
   "cell_type": "code",
   "execution_count": null,
   "metadata": {},
   "outputs": [],
   "source": [
    "from sklearn.linear_model import LogisticRegression\n",
    "from sklearn.model_selection import train_test_split\n",
    "\n",
    "x_train, x_test, y_train, y_test = train_test_split(data, target, test_size=0.25, random_state=0)\n",
    "lrmodel = LogisticRegression()\n",
    "lrmodel.fit(x_train, y_train)\n",
    "\n",
    "from sklearn.ensemble import RandomForestClassifier\n",
    "rfmodel = RandomForestClassifier()\n",
    "rfmodel.fit(x_train, y_train)"
   ]
  },
  {
   "cell_type": "markdown",
   "metadata": {},
   "source": [
    "4) Demonstrate that the end user should be confident in the result."
   ]
  },
  {
   "cell_type": "markdown",
   "metadata": {},
   "source": [
    "There are many ways to evaluate models.  In my previous work, one of the priorities has usually been to make the model interpretable for physicians and other health care providers.  I have found that a table of the sensitivity and precision for different thresholds is a useful tool.  Also, the ROC curve is an extremely common way of visualizing the success of models."
   ]
  },
  {
   "cell_type": "code",
   "execution_count": null,
   "metadata": {},
   "outputs": [],
   "source": [
    "lrpredict = lrmodel.predict(x_test)\n",
    "rfpredict = rfmodel.predict(x_test)\n",
    "\n",
    "lrscores = lrmodel.score(x_test, y_test)\n",
    "rfscores = rfmodel.score(x_test, y_test)\n",
    "\n",
    "from sklearn.metrics import roc_curve, auc, confusion_matrix\n",
    "\n",
    "lrconfuse = confusion_matrix(lrpredict, y_test)\n",
    "rfconfuse = confusion_matrix(rfpredict, y_test)\n",
    "\n",
    "tn, fn, fp, tp = lrconfuse.ravel()\n",
    "lrsens = float(tp) / (tp+fn)\n",
    "lrprec = float(tp) / (tp+fp)\n",
    "\n",
    "tn, fn, fp, tp = rfconfuse.ravel()\n",
    "rfsens = float(tp) / (tp+fn)\n",
    "rfprec = float(tp) / (tp+fp)\n",
    "\n",
    "lrprobs = lrmodel.predict_proba(x_test)[:,1:]\n",
    "rfprobs = rfmodel.predict_proba(x_test)[:,1:]\n",
    "import matplotlib.pyplot as plt\n",
    "fpr, tpr, _ = roc_curve(y_test, lrprobs)\n",
    "fpr, tpr, _ = roc_curve(y_test, rfprobs)\n",
    "roc_auc = auc(fpr, tpr)\n",
    "plt.title('Receiver Operating Characteristic')\n",
    "plt.plot(fpr, tpr, 'b', label='AUC = %0.2f'% roc_auc)\n",
    "plt.legend(loc='lower right')\n",
    "plt.plot([0,1],[0,1],'r--')\n",
    "plt.xlim([-0.1,1.2])\n",
    "plt.ylim([-0.1,1.2])\n",
    "plt.ylabel('True Positive Rate')\n",
    "plt.xlabel('False Positive Rate')\n",
    "plt.show()"
   ]
  },
  {
   "cell_type": "code",
   "execution_count": null,
   "metadata": {},
   "outputs": [],
   "source": [
    "ptable = []\n",
    "for i in np.arange(0.05, 1.0, 0.05):\n",
    "\tpredicts = np.where(lrprobs>=i, 1, 0)\n",
    "\tconfuse = confusion_matrix(predicts, y_test)\n",
    "\ttn, fn, fp, tp = confuse.ravel()\n",
    "\tsens = float(tp) / (tp+fn)\n",
    "\tprec = float(tp) / (tp+fp)\n",
    "\trow = (i, sens, prec)\n",
    "\tptable.append(row) "
   ]
  },
  {
   "cell_type": "markdown",
   "metadata": {},
   "source": [
    "5) Can you find any evidence that for the disease you’ve modeled, a certain drug is preferred\n",
    "by a certain demographic subgroup?"
   ]
  },
  {
   "cell_type": "code",
   "execution_count": null,
   "metadata": {},
   "outputs": [],
   "source": [
    "demog = base.loc[base['diabetesDiagnosed']=='Yes']\n",
    "demogs = {}\n",
    "demog['marital'] = demog.married.apply(lambda x: x.replace(' IN ROUND',''))\n",
    "demogs['race'] = demog.race.unique().tolist()\n",
    "demogs['marital'] = demog.marital.unique().tolist()\n",
    "demogs['sex'] = demog.sex.unique().tolist()\n",
    "demog['agecat'] = pd.cut(demog['age'], [0,18,30,40,50,60,70,120])\n",
    "demogs['agecat'] = demog.agecat.unique().tolist()\n",
    "\n",
    "dprefer = {}\n",
    "top = [row[0] for row in results1['diabetesDiagnosed']]\n",
    "for demo in demogs:\n",
    "\tfor cat in demogs[demo]:\n",
    "\t\tdm = demog[['id',demo]]\n",
    "\t\tdm[cat] = np.where(dm[demo]==cat, 1, 0)\n",
    "\t\tdm = dm.drop_duplicates()[['id',cat]]\n",
    "\t\tdprefer[cat] = []\n",
    "\t\tfor med in top:\n",
    "\t\t# for med in fifty['diabetesDiagnosed']:\n",
    "\t\t\tmd = meds.loc[meds['rxNDC']==med]\n",
    "\t\t\tmd['value'] = 1\n",
    "\t\t\tmg = pd.merge(dm, md, 'left', 'id')\n",
    "\t\t\tmg = mg.fillna(0)\n",
    "\t\t\tmg = mg[['id', cat, 'value']]\n",
    "\t\t\ttb = mg.groupby([cat,'value'], as_index=False).count().values.tolist()\n",
    "\t\t\tif (len(tb)==4):\n",
    "\t\t\t\ttable = [[tb[0][2], tb[1][2]],[tb[2][2], tb[3][2]]]\n",
    "\t\t\t\toddsratio, pvalue = stats.fisher_exact(table)\n",
    "\t\t\t\tif pvalue < 0.01:\n",
    "\t\t\t\t\tdprefer[cat].append((oddsratio, med, ndc[med]))\n",
    "\n",
    "\t\tdprefer[cat] = sorted(dprefer[cat])"
   ]
  },
  {
   "cell_type": "markdown",
   "metadata": {},
   "source": [
    "The highest odds ratios for any demographic group I examined were for the 0-18 age category.  This makes intuitive sense - it seems likely that physicians use different guidelines for treating children than adults.  There were many other demographic differences that reached statistical significance, but the effect sizes tended to be much smaller."
   ]
  }
 ],
 "metadata": {
  "kernelspec": {
   "display_name": "Python 2",
   "language": "python",
   "name": "python2"
  },
  "language_info": {
   "codemirror_mode": {
    "name": "ipython",
    "version": 2
   },
   "file_extension": ".py",
   "mimetype": "text/x-python",
   "name": "python",
   "nbconvert_exporter": "python",
   "pygments_lexer": "ipython2",
   "version": "2.7.14"
  }
 },
 "nbformat": 4,
 "nbformat_minor": 2
}
